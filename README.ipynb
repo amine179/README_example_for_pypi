{
 "cells": [
  {
   "cell_type": "markdown",
   "metadata": {
    "id": "laja7TFXRuLH"
   },
   "source": [
    "## MorEpiTool\n",
    "a RL based simulation environment for epidemic control\n",
    "\n",
    "## Installation\n",
    "Install using pip\n",
    "```pip install MorEpiTool```\n",
    "\n",
    "## Requirements\n",
    "* Python 3.6 or greater\n",
    "* numpy\n",
    "* networkX\n",
    "* matplotlib"
   ]
  },
  {
   "cell_type": "markdown",
   "metadata": {
    "id": "DKyFpb_8RuLO"
   },
   "source": [
    "## Testing example"
   ]
  },
  {
   "cell_type": "markdown",
   "metadata": {
    "id": "AbbraJdURuLO"
   },
   "source": [
    "```\n",
    "from MorEpiTool import the_env\n",
    "import random\n",
    "import time\n",
    "import matplotlib.pyplot as plt\n",
    "\n",
    "#### initialize the env\n",
    "epidemic_data = [0.55, 0.76]\n",
    "demographic_data = [10000, 3, 0.44]\n",
    "env = the_env.MorEpiEnv(epidemic_data, demographic_data)\n",
    "\n",
    "num_ep = 2\n",
    "num_steps = 366\n",
    "\n",
    "\n",
    "step_reward_list = []\n",
    "reward_avrg_list = []\n",
    "\n",
    "try:\n",
    "    for ep in range(num_ep):\n",
    "        obs = env.reset()\n",
    "\n",
    "        for step in range(num_steps):\n",
    "            action = env.random_action()\n",
    "\n",
    "            obs, reward, done, info = env.step(action, step)\n",
    "\n",
    "            #env.render()\n",
    "\n",
    "            #time.sleep(0.00001)\n",
    "\n",
    "            step_reward_list.append(reward)\n",
    "\n",
    "            if done:\n",
    "                print(\"episode finish at : \", step)\n",
    "                env.reset()\n",
    "                reward_avrg = sum(step_reward_list) / len(step_reward_list)\n",
    "\n",
    "        reward_avrg_list.append(reward_avrg)\n",
    "except Exception as error:\n",
    "    print ('oops')        \n",
    "\n",
    "plt.plot(reward_avrg_list)\n",
    "plt.show()\n",
    "```"
   ]
  }
 ],
 "metadata": {
  "colab": {
   "collapsed_sections": [],
   "name": "test_env_after_pip_install.ipynb",
   "provenance": []
  },
  "kernelspec": {
   "display_name": "Python 3",
   "language": "python",
   "name": "python3"
  },
  "language_info": {
   "codemirror_mode": {
    "name": "ipython",
    "version": 3
   },
   "file_extension": ".py",
   "mimetype": "text/x-python",
   "name": "python",
   "nbconvert_exporter": "python",
   "pygments_lexer": "ipython3",
   "version": "3.6.6"
  }
 },
 "nbformat": 4,
 "nbformat_minor": 1
}
